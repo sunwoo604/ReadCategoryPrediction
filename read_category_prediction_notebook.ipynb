{
 "cells": [
  {
   "cell_type": "code",
   "execution_count": 319,
   "id": "4371a63f",
   "metadata": {},
   "outputs": [],
   "source": [
    "import gzip\n",
    "from collections import defaultdict\n",
    "import math\n",
    "import scipy.optimize\n",
    "from sklearn import svm\n",
    "import numpy\n",
    "import string\n",
    "import random\n",
    "import string\n",
    "from sklearn import linear_model\n",
    "import nltk \n",
    "from nltk.corpus import stopwords\n",
    "from sklearn.feature_extraction.text import TfidfVectorizer,CountVectorizer,TfidfTransformer\n",
    "import pandas"
   ]
  },
  {
   "cell_type": "code",
   "execution_count": 2,
   "id": "8b13cbd0",
   "metadata": {},
   "outputs": [],
   "source": [
    "import warnings\n",
    "warnings.filterwarnings(\"ignore\")"
   ]
  },
  {
   "cell_type": "code",
   "execution_count": 3,
   "id": "4f56200a",
   "metadata": {},
   "outputs": [],
   "source": [
    "def readGz(path):\n",
    "  for l in gzip.open(path, 'rt'):\n",
    "    yield eval(l)\n",
    "\n",
    "def readCSV(path):\n",
    "  f = gzip.open(path, 'rt')\n",
    "  f.readline()\n",
    "  for l in f:\n",
    "    yield l.strip().split(',')"
   ]
  },
  {
   "cell_type": "code",
   "execution_count": 4,
   "id": "66b5746e",
   "metadata": {},
   "outputs": [],
   "source": [
    "def accuracy(predictions, y):\n",
    "    correct = predictions == y\n",
    "    return sum(correct) / len(correct)"
   ]
  },
  {
   "cell_type": "code",
   "execution_count": 25,
   "id": "b867fb3f",
   "metadata": {},
   "outputs": [],
   "source": [
    "allRatings = []\n",
    "userRatings = defaultdict(list)\n",
    "\n",
    "for user,book,r in readCSV(\"train_Interactions.csv.gz\"):\n",
    "  r = int(r)\n",
    "  allRatings.append(r)\n",
    "  userRatings[user].append(r)"
   ]
  },
  {
   "cell_type": "code",
   "execution_count": 26,
   "id": "55972220",
   "metadata": {},
   "outputs": [],
   "source": [
    "globalAverage = sum(allRatings) / len(allRatings)\n",
    "userAverage = {}\n",
    "for u in userRatings:\n",
    "  userAverage[u] = sum(userRatings[u]) / len(userRatings[u])"
   ]
  },
  {
   "cell_type": "code",
   "execution_count": 27,
   "id": "36e9d9b0",
   "metadata": {},
   "outputs": [],
   "source": [
    "readBookAvg = []\n",
    "for u in userRatings:\n",
    "    readBookAvg.append(len(userRatings[u]))\n",
    "readBookAvg = sum(readBookAvg)/len(readBookAvg)"
   ]
  },
  {
   "cell_type": "code",
   "execution_count": 28,
   "id": "b0fc8e69",
   "metadata": {},
   "outputs": [],
   "source": [
    "wholeRatings = []\n",
    "for d in readCSV(\"train_Interactions.csv.gz\"):\n",
    "    d[2] = int(d[2])\n",
    "    wholeRatings.append(d)"
   ]
  },
  {
   "cell_type": "code",
   "execution_count": 29,
   "id": "53d6ed18",
   "metadata": {},
   "outputs": [],
   "source": [
    "ratingsPerUser = defaultdict(list)\n",
    "ratingsPerItem = defaultdict(list)\n",
    "for u,b,r in wholeRatings:\n",
    "    ratingsPerUser[u].append((b,r))\n",
    "    ratingsPerItem[b].append((u,r))"
   ]
  },
  {
   "cell_type": "code",
   "execution_count": 30,
   "id": "58ac0133",
   "metadata": {},
   "outputs": [],
   "source": [
    "# === Read Prediction === #"
   ]
  },
  {
   "cell_type": "code",
   "execution_count": 31,
   "id": "801d41e5",
   "metadata": {},
   "outputs": [],
   "source": [
    "bookCount = defaultdict(int)\n",
    "totalRead = 0\n",
    "\n",
    "for user,book,_ in readCSV(\"train_Interactions.csv.gz\"):\n",
    "  bookCount[book] += 1\n",
    "  totalRead += 1\n",
    "\n",
    "mostPopular = [(bookCount[x], x) for x in bookCount]\n",
    "mostPopular.sort()\n",
    "mostPopular.reverse()\n"
   ]
  },
  {
   "cell_type": "code",
   "execution_count": 54,
   "id": "df7f7cbc",
   "metadata": {},
   "outputs": [],
   "source": [
    "return1 = set()\n",
    "count = 0\n",
    "for ic, i in mostPopular:\n",
    "  count += ic\n",
    "  return1.add(i)\n",
    "  if count > 1.5*totalRead/2: break"
   ]
  },
  {
   "cell_type": "code",
   "execution_count": 33,
   "id": "f7cb5137",
   "metadata": {},
   "outputs": [],
   "source": [
    "# ==== Testing Starts ==== #"
   ]
  },
  {
   "cell_type": "code",
   "execution_count": 34,
   "id": "0344370a",
   "metadata": {},
   "outputs": [],
   "source": [
    "#for testing\n",
    "ratingsTrain = wholeRatings[:190000]\n",
    "ratingsTest = wholeRatings[190000:]\n",
    "itemsPerUser = defaultdict(set)\n",
    "usersPerItem = defaultdict(set)\n",
    "for u,b,r in ratingsTrain:\n",
    "    itemsPerUser[u].add(b)\n",
    "    usersPerItem[b].add(u)"
   ]
  },
  {
   "cell_type": "code",
   "execution_count": 37,
   "id": "7342aa36",
   "metadata": {},
   "outputs": [],
   "source": [
    "def Jaccard(s1, s2):\n",
    "    numer = len(s1.intersection(s2))\n",
    "    denom = len(s1.union(s2))\n",
    "    if denom == 0:\n",
    "        return 0\n",
    "    return numer / denom"
   ]
  },
  {
   "cell_type": "code",
   "execution_count": 38,
   "id": "05d082cf",
   "metadata": {},
   "outputs": [],
   "source": [
    "def JaccardSim(u,b):\n",
    "    maxSim = 0\n",
    "    for b2 in itemsPerUser[u]:\n",
    "        if b2==b:\n",
    "            continue\n",
    "        temp = Jaccard(usersPerItem[b],usersPerItem[b2])\n",
    "        if temp>maxSim:\n",
    "            maxSim = temp\n",
    "    return maxSim"
   ]
  },
  {
   "cell_type": "code",
   "execution_count": 39,
   "id": "ff040516",
   "metadata": {},
   "outputs": [],
   "source": [
    "rI=defaultdict(set)\n",
    "rU=defaultdict(set)\n",
    "for u,b,r in wholeRatings:\n",
    "    rI[b].add(u)\n",
    "    rU[u].add(b)"
   ]
  },
  {
   "cell_type": "code",
   "execution_count": 44,
   "id": "00d6ab66",
   "metadata": {},
   "outputs": [],
   "source": [
    "notRead = defaultdict(list)\n",
    "items = set(rI.keys())\n",
    "for u in rU:\n",
    "    notRead[u]=items.difference(rU[u])"
   ]
  },
  {
   "cell_type": "code",
   "execution_count": 45,
   "id": "46306c12",
   "metadata": {},
   "outputs": [],
   "source": [
    "def read_pred(u,b):\n",
    "    a = b in return1\n",
    "    return [1,a,JaccardSim(u,b),len(itemsPerUser[u]),len(usersPerItem[b])]"
   ]
  },
  {
   "cell_type": "code",
   "execution_count": 46,
   "id": "9f19e582",
   "metadata": {},
   "outputs": [],
   "source": [
    "trainNeg=[]\n",
    "users=list(rU.keys())\n",
    "for u,i,_ in ratingsTrain:\n",
    "    samp = notRead[u]\n",
    "    r = random.choice(list(samp))\n",
    "    trainNeg.append((u,r,0))"
   ]
  },
  {
   "cell_type": "code",
   "execution_count": 55,
   "id": "5dee3355",
   "metadata": {},
   "outputs": [],
   "source": [
    "train = ratingsTrain + trainNeg\n",
    "train = [read_pred(u,b) for u,b,r in train]\n",
    "yTrain =[1]*len(ratingsTrain) + [0]*len(trainNeg)"
   ]
  },
  {
   "cell_type": "code",
   "execution_count": 57,
   "id": "6ee0c2c5",
   "metadata": {},
   "outputs": [],
   "source": [
    "validNeg=[]\n",
    "users=list(rU.keys())\n",
    "for u,i,_ in ratingsTest:\n",
    "    samp = notRead[u]\n",
    "    r = random.choice(list(samp))\n",
    "    validNeg.append((u,r,0))"
   ]
  },
  {
   "cell_type": "code",
   "execution_count": 58,
   "id": "c2349e91",
   "metadata": {},
   "outputs": [
    {
     "data": {
      "text/plain": [
       "['u59070515', 'b55084829', 5]"
      ]
     },
     "execution_count": 58,
     "metadata": {},
     "output_type": "execute_result"
    }
   ],
   "source": [
    "val = ratingsTest + validNeg\n",
    "y=[1]*10000 + [0]*10000\n",
    "val[0]"
   ]
  },
  {
   "cell_type": "code",
   "execution_count": 59,
   "id": "e0da9465",
   "metadata": {},
   "outputs": [
    {
     "data": {
      "text/plain": [
       "[[1, False, 0.0017301038062283738, 15, 14],\n",
       " [1, True, 0.011655011655011656, 15, 299],\n",
       " [1, False, 0.004629629629629629, 8, 22],\n",
       " [1, True, 0.01990049751243781, 8, 114],\n",
       " [1, True, 0.006060606060606061, 9, 392],\n",
       " [1, True, 0.004070556309362279, 6, 53],\n",
       " [1, True, 0.00851063829787234, 16, 174],\n",
       " [1, False, 0.003105590062111801, 17, 16],\n",
       " [1, True, 0.02631578947368421, 21, 66],\n",
       " [1, True, 0.018361581920903956, 9, 580]]"
      ]
     },
     "execution_count": 59,
     "metadata": {},
     "output_type": "execute_result"
    }
   ],
   "source": [
    "valid = [read_pred(u,b) for u,b,r in val]\n",
    "valid[:10]"
   ]
  },
  {
   "cell_type": "code",
   "execution_count": 61,
   "id": "ca7595f9",
   "metadata": {},
   "outputs": [
    {
     "data": {
      "text/plain": [
       "[0.7058,\n",
       " 0.72035,\n",
       " 0.72665,\n",
       " 0.7271,\n",
       " 0.731,\n",
       " 0.75015,\n",
       " 0.7532,\n",
       " 0.75315,\n",
       " 0.749,\n",
       " 0.72665,\n",
       " 0.71565,\n",
       " 0.71255,\n",
       " 0.71225,\n",
       " 0.7122,\n",
       " 0.7122]"
      ]
     },
     "execution_count": 61,
     "metadata": {},
     "output_type": "execute_result"
    }
   ],
   "source": [
    "accList=[]\n",
    "for c in [-9,-8,-7,-6,-5,-4,-3,-2,-1,0,1,2,3,4,5]:\n",
    "    mod = linear_model.LogisticRegression(C=10**c)\n",
    "    mod.fit(train,yTrain)\n",
    "    tempPred = mod.predict(valid)\n",
    "    acc = accuracy(tempPred,y)\n",
    "    accList.append(acc)\n",
    "accList"
   ]
  },
  {
   "cell_type": "code",
   "execution_count": 67,
   "id": "a9188d44",
   "metadata": {},
   "outputs": [
    {
     "data": {
      "text/plain": [
       "LogisticRegression(C=0.001)"
      ]
     },
     "execution_count": 67,
     "metadata": {},
     "output_type": "execute_result"
    }
   ],
   "source": [
    "mod = linear_model.LogisticRegression(C=10**-3)\n",
    "mod.fit(train,yTrain)"
   ]
  },
  {
   "cell_type": "code",
   "execution_count": 68,
   "id": "cd05668c",
   "metadata": {},
   "outputs": [],
   "source": [
    "read_prediction = mod.predict(valid)"
   ]
  },
  {
   "cell_type": "code",
   "execution_count": 69,
   "id": "7ab1c76f",
   "metadata": {},
   "outputs": [],
   "source": [
    "base_read_prediction = [b in return1 for u,b,_ in val]"
   ]
  },
  {
   "cell_type": "code",
   "execution_count": 70,
   "id": "790ee880",
   "metadata": {},
   "outputs": [
    {
     "data": {
      "text/plain": [
       "0.7532"
      ]
     },
     "execution_count": 70,
     "metadata": {},
     "output_type": "execute_result"
    }
   ],
   "source": [
    "accForBase = accuracy(read_prediction,y)\n",
    "accForBase"
   ]
  },
  {
   "cell_type": "code",
   "execution_count": null,
   "id": "4d6444b1",
   "metadata": {},
   "outputs": [],
   "source": [
    "# ==== Testing Ends ==== #"
   ]
  },
  {
   "cell_type": "code",
   "execution_count": 334,
   "id": "97dd15c0",
   "metadata": {},
   "outputs": [],
   "source": [
    "# ==== Actual Starts ====#"
   ]
  },
  {
   "cell_type": "code",
   "execution_count": 71,
   "id": "b53d383c",
   "metadata": {},
   "outputs": [],
   "source": [
    "#for hidden\n",
    "itemsPerUser = defaultdict(set)\n",
    "usersPerItem = defaultdict(set)\n",
    "for u,b,r in wholeRatings:\n",
    "    itemsPerUser[u].add(b)\n",
    "    usersPerItem[b].add(u)"
   ]
  },
  {
   "cell_type": "code",
   "execution_count": 72,
   "id": "061b1f11",
   "metadata": {},
   "outputs": [],
   "source": [
    "def read_pred(u,b):\n",
    "    a = b in return1\n",
    "    return [1,a,JaccardSim(u,b),len(itemsPerUser[u]),len(usersPerItem[b])]"
   ]
  },
  {
   "cell_type": "code",
   "execution_count": 74,
   "id": "f626a7c4",
   "metadata": {},
   "outputs": [],
   "source": [
    "realNeg=[]\n",
    "users=list(rU.keys())\n",
    "for u,i,_ in wholeRatings:\n",
    "    samp = notRead[u]\n",
    "    r = random.choice(list(samp))\n",
    "    realNeg.append((u,r,0))"
   ]
  },
  {
   "cell_type": "code",
   "execution_count": 75,
   "id": "fc0d87a0",
   "metadata": {},
   "outputs": [],
   "source": [
    "realTrain = wholeRatings + realNeg\n",
    "realTrain = [read_pred(u,b) for u,b,r in realTrain]\n",
    "realY =[1]*len(wholeRatings) + [0]*len(realNeg)"
   ]
  },
  {
   "cell_type": "code",
   "execution_count": 76,
   "id": "1e157e5d",
   "metadata": {},
   "outputs": [
    {
     "data": {
      "text/plain": [
       "[[1, True, 0.018066847335140017, 18, 463],\n",
       " [1, False, 0.058823529411764705, 7, 10],\n",
       " [1, False, 0.037037037037037035, 20, 14],\n",
       " [1, True, 0.017094017094017096, 10, 93],\n",
       " [1, True, 0.019230769230769232, 9, 111],\n",
       " [1, True, 0.01948051948051948, 5, 79],\n",
       " [1, True, 0.0031446540880503146, 4, 311],\n",
       " [1, True, 0.02356902356902357, 14, 137],\n",
       " [1, False, 0.024390243902439025, 6, 15],\n",
       " [1, True, 0.022388059701492536, 10, 87]]"
      ]
     },
     "execution_count": 76,
     "metadata": {},
     "output_type": "execute_result"
    }
   ],
   "source": [
    "realTrain[:10]"
   ]
  },
  {
   "cell_type": "code",
   "execution_count": 77,
   "id": "158e6645",
   "metadata": {},
   "outputs": [
    {
     "data": {
      "text/plain": [
       "LogisticRegression(C=0.001)"
      ]
     },
     "execution_count": 77,
     "metadata": {},
     "output_type": "execute_result"
    }
   ],
   "source": [
    "mod = linear_model.LogisticRegression(C=10**-3)\n",
    "mod.fit(realTrain,realY)"
   ]
  },
  {
   "cell_type": "code",
   "execution_count": 78,
   "id": "8e148a86",
   "metadata": {},
   "outputs": [],
   "source": [
    "predictions = open(\"predictions_Read.csv\", 'w')\n",
    "for l in open(\"pairs_Read.csv\"):\n",
    "  if l.startswith(\"userID\"):\n",
    "    #header\n",
    "    predictions.write(l)\n",
    "    continue\n",
    "  u,b = l.strip().split(',')\n",
    "  if mod.predict([read_pred(u,b)])[0]:\n",
    "    predictions.write(u + ',' + b + \",1\\n\")\n",
    "  else:\n",
    "    predictions.write(u + ',' + b + \",0\\n\")\n",
    "\n",
    "predictions.close()"
   ]
  },
  {
   "cell_type": "code",
   "execution_count": 79,
   "id": "fdd94522",
   "metadata": {},
   "outputs": [],
   "source": [
    "# === Category Prediction === #"
   ]
  },
  {
   "cell_type": "code",
   "execution_count": 5,
   "id": "46e6f80a",
   "metadata": {},
   "outputs": [],
   "source": [
    "catDict = {\n",
    "  \"children\": 0,\n",
    "  \"comics_graphic\": 1,\n",
    "  \"fantasy_paranormal\": 2,\n",
    "  \"mystery_thriller_crime\": 3,\n",
    "  \"young_adult\": 4\n",
    "}"
   ]
  },
  {
   "cell_type": "code",
   "execution_count": 6,
   "id": "b7299fa7",
   "metadata": {},
   "outputs": [],
   "source": [
    "data = []\n",
    "\n",
    "for d in readGz(\"train_Category.json.gz\"):\n",
    "    data.append(d)"
   ]
  },
  {
   "cell_type": "code",
   "execution_count": 7,
   "id": "ce10dd16",
   "metadata": {},
   "outputs": [],
   "source": [
    "def cleaning(txt):\n",
    "    newTxt = txt.translate(str.maketrans('', '', string.punctuation))\n",
    "    return newTxt.lower()"
   ]
  },
  {
   "cell_type": "code",
   "execution_count": 8,
   "id": "51b73cb9",
   "metadata": {},
   "outputs": [],
   "source": [
    "dataTrain = data[:90000]\n",
    "dataTest = data[90000:]"
   ]
  },
  {
   "cell_type": "code",
   "execution_count": 9,
   "id": "aa956253",
   "metadata": {},
   "outputs": [
    {
     "name": "stderr",
     "output_type": "stream",
     "text": [
      "[nltk_data] Downloading package stopwords to\n",
      "[nltk_data]     /Users/sunwoo/nltk_data...\n",
      "[nltk_data]   Package stopwords is already up-to-date!\n"
     ]
    },
    {
     "data": {
      "text/plain": [
       "True"
      ]
     },
     "execution_count": 9,
     "metadata": {},
     "output_type": "execute_result"
    }
   ],
   "source": [
    "nltk.download('stopwords')"
   ]
  },
  {
   "cell_type": "code",
   "execution_count": 10,
   "id": "462df388",
   "metadata": {},
   "outputs": [],
   "source": [
    "sw = stopwords.words(\"english\")"
   ]
  },
  {
   "cell_type": "code",
   "execution_count": 265,
   "id": "9f2c236e",
   "metadata": {},
   "outputs": [
    {
     "data": {
      "text/plain": [
       "{'user_id': 'u75242413',\n",
       " 'review_id': 'r45843137',\n",
       " 'rating': 4,\n",
       " 'review_text': \"a clever book with a deeply troubling premise and an intriguing protagonist. Thompson's clean, sparse prose style kept each page feeling light even as some rather heavy existential questions dropped upon them. I enjoyed it. \\n and that cover design is boom-pow gorgeous.\",\n",
       " 'n_votes': 1,\n",
       " 'genre': 'mystery_thriller_crime',\n",
       " 'genreID': 3}"
      ]
     },
     "execution_count": 265,
     "metadata": {},
     "output_type": "execute_result"
    }
   ],
   "source": [
    "data[0]"
   ]
  },
  {
   "cell_type": "code",
   "execution_count": 11,
   "id": "d74d02a2",
   "metadata": {},
   "outputs": [],
   "source": [
    "wordCount=defaultdict(int)\n",
    "for d in dataTrain:\n",
    "    txt = cleaning(d['review_text'])\n",
    "    for i in txt.split():\n",
    "        if i in sw:\n",
    "            continue\n",
    "        wordCount[i]+=1"
   ]
  },
  {
   "cell_type": "code",
   "execution_count": 12,
   "id": "496af1ac",
   "metadata": {},
   "outputs": [],
   "source": [
    "counts = [(wordCount[w], w) for w in wordCount]\n",
    "counts.sort()\n",
    "counts.reverse()"
   ]
  },
  {
   "cell_type": "code",
   "execution_count": 85,
   "id": "77741808",
   "metadata": {},
   "outputs": [],
   "source": [
    "words = [d[1] for d in counts[:1500]]"
   ]
  },
  {
   "cell_type": "code",
   "execution_count": 88,
   "id": "7d0e55a5",
   "metadata": {},
   "outputs": [],
   "source": [
    "wordId = dict(zip(words, range(len(words))))\n",
    "wordSet = set(words)"
   ]
  },
  {
   "cell_type": "code",
   "execution_count": 249,
   "id": "84a1909d",
   "metadata": {},
   "outputs": [],
   "source": [
    "grams = [x[1] for x in gcounts[:2000]]"
   ]
  },
  {
   "cell_type": "code",
   "execution_count": 250,
   "id": "d2d062d9",
   "metadata": {},
   "outputs": [],
   "source": [
    "gramId = dict(zip(grams, range(len(grams))))"
   ]
  },
  {
   "cell_type": "code",
   "execution_count": null,
   "id": "717a030c",
   "metadata": {},
   "outputs": [],
   "source": [
    "#tfidf"
   ]
  },
  {
   "cell_type": "code",
   "execution_count": 332,
   "id": "6c746d00",
   "metadata": {},
   "outputs": [
    {
     "data": {
      "text/plain": [
       "TfidfTransformer()"
      ]
     },
     "execution_count": 332,
     "metadata": {},
     "output_type": "execute_result"
    }
   ],
   "source": [
    "tftrain = [d['review_text'] for d in dataTrain]\n",
    "tftest = [d['review_text'] for d in dataTest]\n",
    "cv=CountVectorizer(stop_words='english')\n",
    "cvVec = cv.fit_transform(tftrain)\n",
    "tfidf_transformer=TfidfTransformer(smooth_idf=True,use_idf=True) \n",
    "tfidf_transformer.fit(cvVec)"
   ]
  },
  {
   "cell_type": "code",
   "execution_count": 375,
   "id": "72497df2",
   "metadata": {},
   "outputs": [],
   "source": [
    "tfidf_vectorizer=TfidfVectorizer(use_idf=True,stop_words='english') \n",
    "fitted_vectorizer=tfidf_vectorizer.fit(tftrain)\n",
    "tfidfTrain=fitted_vectorizer.transform(tftrain)"
   ]
  },
  {
   "cell_type": "code",
   "execution_count": 382,
   "id": "4b8ea5db",
   "metadata": {},
   "outputs": [
    {
     "data": {
      "text/plain": [
       "LogisticRegression(C=1000)"
      ]
     },
     "execution_count": 382,
     "metadata": {},
     "output_type": "execute_result"
    }
   ],
   "source": [
    "clf = linear_model.LogisticRegression(C=1000)\n",
    "clf.fit(tfidfTrain, ytrain)"
   ]
  },
  {
   "cell_type": "code",
   "execution_count": 377,
   "id": "41156840",
   "metadata": {},
   "outputs": [],
   "source": [
    "tfidfTest=fitted_vectorizer.transform(tftest)"
   ]
  },
  {
   "cell_type": "code",
   "execution_count": 383,
   "id": "1641fa9c",
   "metadata": {},
   "outputs": [
    {
     "data": {
      "text/plain": [
       "0.7675"
      ]
     },
     "execution_count": 383,
     "metadata": {},
     "output_type": "execute_result"
    }
   ],
   "source": [
    "tfpred = clf.predict(tfidfTest)\n",
    "accuracy(tfpred,yvalid)"
   ]
  },
  {
   "cell_type": "code",
   "execution_count": 385,
   "id": "da9bee50",
   "metadata": {},
   "outputs": [
    {
     "data": {
      "text/plain": [
       "array([3, 3, 2, ..., 3, 3, 2])"
      ]
     },
     "execution_count": 385,
     "metadata": {},
     "output_type": "execute_result"
    }
   ],
   "source": [
    "tfpred"
   ]
  },
  {
   "cell_type": "code",
   "execution_count": 380,
   "id": "234460c6",
   "metadata": {},
   "outputs": [],
   "source": [
    "accList = []\n",
    "for c in [0.0001, 0.001, 0.01, 0.1, 1, 10 ,100, 1000, 10000]:\n",
    "    clf = linear_model.LogisticRegression(C=c)\n",
    "    clf.fit(tfidfTrain, ytrain)\n",
    "    pred = clf.predict(tfidfTest)\n",
    "    correct = pred == yvalid\n",
    "    acc1 = sum(correct) / len(correct)\n",
    "    accList.append(acc1)"
   ]
  },
  {
   "cell_type": "code",
   "execution_count": 381,
   "id": "c8688a39",
   "metadata": {},
   "outputs": [
    {
     "data": {
      "text/plain": [
       "[0.3593, 0.3594, 0.525, 0.7094, 0.7616, 0.7641, 0.7618, 0.7675, 0.7615]"
      ]
     },
     "execution_count": 381,
     "metadata": {},
     "output_type": "execute_result"
    }
   ],
   "source": [
    "accList"
   ]
  },
  {
   "cell_type": "code",
   "execution_count": 275,
   "id": "d92f69d5",
   "metadata": {},
   "outputs": [],
   "source": [
    "def cat_pred(datum):\n",
    "    feat = [0]*len(grams)\n",
    "    r = cleaning(datum['review_text'])\n",
    "    ws = r.split()\n",
    "    ws = [d for d in ws if d not in sw ]\n",
    "    ws2 = [' '.join(x) for x in list(zip(ws[:-1],ws[1:]))]\n",
    "    for w in ws + ws2:\n",
    "        if w in grams:\n",
    "            feat[gramId[w]] += 1\n",
    "    gs = [0,0,0,0,0]\n",
    "    for i in userGenres[datum['user_id']]:\n",
    "        gs[i] += 1\n",
    "    feat += gs\n",
    "    feat.append(datum['n_votes'])\n",
    "    feat.append(1)\n",
    "    return feat"
   ]
  },
  {
   "cell_type": "code",
   "execution_count": 201,
   "id": "1be8f59f",
   "metadata": {},
   "outputs": [],
   "source": [
    "userGenres=defaultdict(list)\n",
    "for d in dataTrain:\n",
    "    userGenres[d['user_id']].append(d['genreID'])"
   ]
  },
  {
   "cell_type": "code",
   "execution_count": 276,
   "id": "2347f14e",
   "metadata": {},
   "outputs": [],
   "source": [
    "X = [cat_pred(d) for d in data]"
   ]
  },
  {
   "cell_type": "code",
   "execution_count": 277,
   "id": "2d7fe8d9",
   "metadata": {},
   "outputs": [],
   "source": [
    "y=[d['genreID'] for d in data]"
   ]
  },
  {
   "cell_type": "code",
   "execution_count": 278,
   "id": "044b7e42",
   "metadata": {},
   "outputs": [],
   "source": [
    "Xtrain = X[:9*len(X)//10]\n",
    "ytrain = y[:9*len(y)//10]\n",
    "Xvalid = X[9*len(X)//10:]\n",
    "yvalid = y[9*len(y)//10:]"
   ]
  },
  {
   "cell_type": "code",
   "execution_count": 255,
   "id": "159fc2b4",
   "metadata": {},
   "outputs": [],
   "source": [
    "accList = []\n",
    "for c in [0.0001, 0.001, 0.01, 0.1, 1, 10 ,100, 1000, 10000]:\n",
    "    clf = linear_model.LogisticRegression(C=c)\n",
    "    clf.fit(Xtrain, ytrain)\n",
    "    pred = clf.predict(Xvalid)\n",
    "    correct = pred == yvalid\n",
    "    acc1 = sum(correct) / len(correct)\n",
    "    accList.append(acc1)"
   ]
  },
  {
   "cell_type": "code",
   "execution_count": 256,
   "id": "f672a8d0",
   "metadata": {},
   "outputs": [
    {
     "data": {
      "text/plain": [
       "[0.549, 0.6225, 0.681, 0.6962, 0.6933, 0.6921, 0.6924, 0.6922, 0.6924]"
      ]
     },
     "execution_count": 256,
     "metadata": {},
     "output_type": "execute_result"
    }
   ],
   "source": [
    "accList"
   ]
  },
  {
   "cell_type": "code",
   "execution_count": 279,
   "id": "dcc073c2",
   "metadata": {},
   "outputs": [
    {
     "data": {
      "text/plain": [
       "LogisticRegression(C=0.1)"
      ]
     },
     "execution_count": 279,
     "metadata": {},
     "output_type": "execute_result"
    }
   ],
   "source": [
    "clf = linear_model.LogisticRegression(C=0.1)\n",
    "clf.fit(Xtrain, ytrain)"
   ]
  },
  {
   "cell_type": "code",
   "execution_count": 280,
   "id": "fd0e24f4",
   "metadata": {},
   "outputs": [
    {
     "data": {
      "text/plain": [
       "0.6979"
      ]
     },
     "execution_count": 280,
     "metadata": {},
     "output_type": "execute_result"
    }
   ],
   "source": [
    "pred = clf.predict(Xvalid)\n",
    "accuracy(pred,yvalid)"
   ]
  },
  {
   "cell_type": "code",
   "execution_count": 124,
   "id": "293a4cd0",
   "metadata": {},
   "outputs": [],
   "source": [
    "# ==== Category actual ==== #"
   ]
  },
  {
   "cell_type": "code",
   "execution_count": 282,
   "id": "cca34bc6",
   "metadata": {},
   "outputs": [],
   "source": [
    "grams = [x[1] for x in gcounts[:2000]]"
   ]
  },
  {
   "cell_type": "code",
   "execution_count": 283,
   "id": "212f5d4e",
   "metadata": {},
   "outputs": [],
   "source": [
    "gramId = dict(zip(grams, range(len(grams))))"
   ]
  },
  {
   "cell_type": "code",
   "execution_count": 284,
   "id": "7b5d7ab7",
   "metadata": {},
   "outputs": [],
   "source": [
    "def cat_pred(datum):\n",
    "    feat = [0]*len(grams)\n",
    "    r = cleaning(datum['review_text'])\n",
    "    ws = r.split()\n",
    "    ws = [d for d in ws if d not in sw ]\n",
    "    ws2 = [' '.join(x) for x in list(zip(ws[:-1],ws[1:]))]\n",
    "    for w in ws + ws2:\n",
    "        if w in grams:\n",
    "            feat[gramId[w]] += 1\n",
    "    gs = [0,0,0,0,0]\n",
    "    for i in userGenres[datum['user_id']]:\n",
    "        gs[i] += 1\n",
    "    feat += gs\n",
    "    feat.append(datum['n_votes'])\n",
    "    feat.append(1)\n",
    "    return feat"
   ]
  },
  {
   "cell_type": "code",
   "execution_count": 285,
   "id": "bc84b8d5",
   "metadata": {},
   "outputs": [],
   "source": [
    "X = [cat_pred(d) for d in data]\n",
    "y = [d['genreID'] for d in data]"
   ]
  },
  {
   "cell_type": "code",
   "execution_count": 286,
   "id": "a87fef99",
   "metadata": {},
   "outputs": [
    {
     "data": {
      "text/plain": [
       "LogisticRegression(C=0.1)"
      ]
     },
     "execution_count": 286,
     "metadata": {},
     "output_type": "execute_result"
    }
   ],
   "source": [
    "clf = linear_model.LogisticRegression(C=0.1)\n",
    "clf.fit(X, y)"
   ]
  },
  {
   "cell_type": "code",
   "execution_count": null,
   "id": "a77d6ad8",
   "metadata": {},
   "outputs": [],
   "source": [
    "# ==== tfidf ==== #"
   ]
  },
  {
   "cell_type": "code",
   "execution_count": 390,
   "id": "dc36afad",
   "metadata": {},
   "outputs": [],
   "source": [
    "tffull = [d['review_text'] for d in data]\n",
    "y = [d['genreID'] for d in data]"
   ]
  },
  {
   "cell_type": "code",
   "execution_count": 389,
   "id": "613b5d42",
   "metadata": {},
   "outputs": [],
   "source": [
    "tfidf_vectorizer=TfidfVectorizer(use_idf=True,stop_words='english') \n",
    "fitted_vectorizer=tfidf_vectorizer.fit(tffull)\n",
    "tfidfFull=fitted_vectorizer.transform(tffull)"
   ]
  },
  {
   "cell_type": "code",
   "execution_count": 391,
   "id": "eb943269",
   "metadata": {},
   "outputs": [
    {
     "data": {
      "text/plain": [
       "LogisticRegression(C=1000)"
      ]
     },
     "execution_count": 391,
     "metadata": {},
     "output_type": "execute_result"
    }
   ],
   "source": [
    "clf = linear_model.LogisticRegression(C=1000)\n",
    "clf.fit(tfidfFull, y)"
   ]
  },
  {
   "cell_type": "code",
   "execution_count": null,
   "id": "1f67fbfd",
   "metadata": {},
   "outputs": [],
   "source": [
    "tfidfTest=fitted_vectorizer.transform(res)"
   ]
  },
  {
   "cell_type": "code",
   "execution_count": 400,
   "id": "0f6e6124",
   "metadata": {},
   "outputs": [],
   "source": [
    "predictions = open(\"predictions_Category.csv\", 'w')\n",
    "predictions.write(\"userID,reviewID,prediction\\n\")\n",
    "res = []\n",
    "output = []\n",
    "for l in readGz(\"test_Category.json.gz\"):\n",
    "    res.append(l['review_text'])\n",
    "    output.append((l['user_id'],l['review_id']))\n",
    "    \n",
    "res = tfidfTest=fitted_vectorizer.transform(res)\n",
    "pred = clf.predict(res)\n",
    "\n",
    "for o in zip(output,pred):\n",
    "    predictions.write(o[0][0] + ',' + o[0][1] + \",\" + str(o[1]) + \"\\n\")"
   ]
  },
  {
   "cell_type": "code",
   "execution_count": 401,
   "id": "61c33d6d",
   "metadata": {},
   "outputs": [],
   "source": [
    "predictions.close()"
   ]
  },
  {
   "cell_type": "code",
   "execution_count": null,
   "id": "f4ad0a2a",
   "metadata": {},
   "outputs": [],
   "source": []
  }
 ],
 "metadata": {
  "kernelspec": {
   "display_name": "Python 3 (ipykernel)",
   "language": "python",
   "name": "python3"
  },
  "language_info": {
   "codemirror_mode": {
    "name": "ipython",
    "version": 3
   },
   "file_extension": ".py",
   "mimetype": "text/x-python",
   "name": "python",
   "nbconvert_exporter": "python",
   "pygments_lexer": "ipython3",
   "version": "3.9.6"
  },
  "vscode": {
   "interpreter": {
    "hash": "31f2aee4e71d21fbe5cf8b01ff0e069b9275f58929596ceb00d14d90e3e16cd6"
   }
  }
 },
 "nbformat": 4,
 "nbformat_minor": 5
}
